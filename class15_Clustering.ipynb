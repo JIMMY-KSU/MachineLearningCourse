{
 "cells": [
  {
   "cell_type": "markdown",
   "metadata": {},
   "source": [
    "---\n",
    "\n",
    "# Data Mining:<br>Statistical Modeling and Learning from Data\n",
    "\n",
    "## Dr. Ciro Cattuto<br>Dr. Laetitia Gauvin<br>Dr. André Panisson\n",
    "\n",
    "### Exercises - Clustering\n",
    "\n",
    "---"
   ]
  },
  {
   "cell_type": "code",
   "execution_count": null,
   "metadata": {},
   "outputs": [],
   "source": [
    "%pylab inline"
   ]
  },
  {
   "cell_type": "code",
   "execution_count": null,
   "metadata": {},
   "outputs": [],
   "source": [
    "from sklearn import datasets\n",
    "\n",
    "X, _ = datasets.make_blobs(n_samples=50, random_state=8)\n",
    "# X, _ = datasets.make_circles(n_samples=1500, factor=.5, noise=.05)\n",
    "\n",
    "plot(X[:, 0], X[:, 1], 'bx')"
   ]
  },
  {
   "cell_type": "markdown",
   "metadata": {},
   "source": [
    "# Kmeans clustering"
   ]
  },
  {
   "cell_type": "code",
   "execution_count": null,
   "metadata": {},
   "outputs": [],
   "source": [
    "from sklearn import cluster\n",
    "\n",
    "kmeans = cluster.KMeans(n_clusters=3, init='random',\n",
    "                        n_init=1, max_iter=10, random_state=1)\n",
    "C = kmeans.fit_predict(X)\n",
    "\n",
    "colors = array(['b', 'r', 'g', 'y'])\n",
    "scatter(X[:, 0], X[:, 1], marker=\"x\", c=colors[C])\n",
    "\n",
    "centers = kmeans.cluster_centers_\n",
    "scatter(centers[:, 0], centers[:, 1], s=100, c=colors)"
   ]
  },
  {
   "cell_type": "markdown",
   "metadata": {},
   "source": [
    "# Hierarchical clustering"
   ]
  },
  {
   "cell_type": "code",
   "execution_count": null,
   "metadata": {},
   "outputs": [],
   "source": [
    "from scipy.cluster.hierarchy import distance"
   ]
  },
  {
   "cell_type": "code",
   "execution_count": null,
   "metadata": {},
   "outputs": [],
   "source": [
    "distance.pdist?"
   ]
  },
  {
   "cell_type": "code",
   "execution_count": null,
   "metadata": {},
   "outputs": [],
   "source": [
    "from scipy.cluster.hierarchy import linkage, dendrogram, fcluster\n",
    "\n",
    "X, _ = datasets.make_blobs(n_samples=50, random_state=8)\n",
    "# X, _ = datasets.make_circles(n_samples=500, factor=.5, noise=.05)\n",
    "\n",
    "Z = linkage(X)\n",
    "figure(figsize=(15,5))\n",
    "P = dendrogram(Z);"
   ]
  },
  {
   "cell_type": "code",
   "execution_count": null,
   "metadata": {},
   "outputs": [],
   "source": [
    "T = fcluster(Z, 3, 'maxclust')\n",
    "colors = array(['b', 'r', 'g', 'y', 'k'])\n",
    "\n",
    "figure(figsize=(5,5))\n",
    "scatter(X[:, 0], X[:, 1], color=colors[T-1]);"
   ]
  },
  {
   "cell_type": "code",
   "execution_count": null,
   "metadata": {},
   "outputs": [],
   "source": [
    "aggl = cluster.AgglomerativeClustering(n_clusters=3)\n",
    "C = aggl.fit_predict(X)\n",
    "\n",
    "colors = array(['b', 'r', 'g'])\n",
    "scatter(X[:, 0], X[:, 1], c=colors[C])"
   ]
  },
  {
   "cell_type": "markdown",
   "metadata": {},
   "source": [
    "# Microarray data clustering\n",
    "\n",
    "Rosenwald, Andreas, et al. \"The use of molecular profiling to predict survival after chemotherapy for diffuse large-B-cell lymphoma.\" New England Journal of Medicine 346.25 (2002): 1937-1947.\n",
    "\n",
    "http://www.nejm.org/doi/full/10.1056/NEJMoa012914#t=article  \n",
    "\"Hierarchical clustering was used to define subgroups of diffuse large-B-cell lymphoma.\"\n",
    "\n",
    "Data:  \n",
    "http://llmpp.nih.gov/DLBCL/"
   ]
  },
  {
   "cell_type": "code",
   "execution_count": null,
   "metadata": {},
   "outputs": [],
   "source": [
    "import pandas as pd"
   ]
  },
  {
   "cell_type": "code",
   "execution_count": null,
   "metadata": {},
   "outputs": [],
   "source": [
    "def RedBlackGreen():\n",
    "    cdict = {'red':   ((0.0, 0.0, 0.0),\n",
    "                       (0.5, 0.0, 0.1),\n",
    "                       (0.7, 1.0, 1.0),\n",
    "                       (1.0, 1.0, 1.0)),\n",
    "    \n",
    "             'blue': ((0.0, 0.0, 0.0),\n",
    "                      (1.0, 0.0, 0.0)),\n",
    "    \n",
    "             'green':  ((0.0, 0.0, 1.0),\n",
    "                        (0.3, 1.0, 1.0),\n",
    "                       (0.5, 0.1, 0.0),\n",
    "                       (1.0, 0.0, 0.0))\n",
    "            }\n",
    "    \n",
    "    my_cmap = matplotlib.colors.LinearSegmentedColormap('my_colormap',cdict,256)\n",
    "    return my_cmap\n",
    "\n",
    "redblackgreen = RedBlackGreen()"
   ]
  },
  {
   "cell_type": "code",
   "execution_count": null,
   "metadata": {},
   "outputs": [],
   "source": [
    "df = pd.read_csv(\"data/Fig1A.cdt\", sep=\"\\t\", index_col=['UNIQID'])\n",
    "df = df.iloc[2:, 3:-2]\n",
    "\n",
    "df2 = df.astype(float).fillna(0)\n",
    "X = df2.values.T"
   ]
  },
  {
   "cell_type": "code",
   "execution_count": null,
   "metadata": {},
   "outputs": [],
   "source": [
    "X.shape"
   ]
  },
  {
   "cell_type": "code",
   "execution_count": null,
   "metadata": {},
   "outputs": [],
   "source": [
    "import scipy.cluster.hierarchy as sch\n",
    "import scipy.spatial.distance as dist"
   ]
  },
  {
   "cell_type": "code",
   "execution_count": null,
   "metadata": {},
   "outputs": [],
   "source": [
    "# Compute and plot first dendrogram.\n",
    "fig = pylab.figure(figsize=(12,5))\n",
    "ax1 = fig.add_axes([0.1,0.71,0.7,0.2])\n",
    "Y = sch.linkage(dist.pdist(X, 'correlation'), method='average')\n",
    "Z1 = sch.dendrogram(Y)\n",
    "ax1.set_xticks([])\n",
    "ax1.set_yticks([])\n",
    "\n",
    "# Compute and plot second dendrogram.\n",
    "ax2 = fig.add_axes([0.805,0.05,0.1,0.65])\n",
    "Y = sch.linkage(dist.pdist(X.T, 'correlation'), method='average')\n",
    "Z2 = sch.dendrogram(Y, orientation='left')\n",
    "ax2.set_xticks([])\n",
    "ax2.set_yticks([])\n",
    "\n",
    "# Plot distance matrix.\n",
    "axmatrix = fig.add_axes([0.1,0.05,0.7,0.65])\n",
    "idx1 = Z1['leaves']\n",
    "idx2 = Z2['leaves']\n",
    "X = X[idx1,:]\n",
    "X = X[:,idx2]\n",
    "norm = plt.cm.colors.Normalize(vmax=abs(X).max(), vmin=-abs(X).max())\n",
    "im = axmatrix.matshow(X.T, aspect='auto', origin='lower', cmap=redblackgreen, norm=norm)\n",
    "axmatrix.set_xticks([])\n",
    "axmatrix.set_yticks([])\n",
    "\n",
    "# # Plot colorbar.\n",
    "axcolor = fig.add_axes([0.1,0.,0.7,0.04])\n",
    "pylab.colorbar(im, cax=axcolor, orientation='horizontal');"
   ]
  },
  {
   "cell_type": "markdown",
   "metadata": {},
   "source": [
    "\"Panel A shows the hierarchical clustering of diffuse large-B-cell lymphomas from 240 patients with untreated disease and 34 patients who had previously been treated or who had a preexisting low-grade lymphoma, according to the level of expression of 100 genes. Red areas indicate increased expression, and green areas decreased expression. Each column represents a single diffuse large-B-cell lymphoma, and each row represents a single gene. ...\""
   ]
  },
  {
   "cell_type": "code",
   "execution_count": null,
   "metadata": {},
   "outputs": [],
   "source": []
  }
 ],
 "metadata": {
  "kernelspec": {
   "display_name": "Python 3",
   "language": "python",
   "name": "python3"
  },
  "language_info": {
   "codemirror_mode": {
    "name": "ipython",
    "version": 3
   },
   "file_extension": ".py",
   "mimetype": "text/x-python",
   "name": "python",
   "nbconvert_exporter": "python",
   "pygments_lexer": "ipython3",
   "version": "3.6.5"
  }
 },
 "nbformat": 4,
 "nbformat_minor": 1
}
