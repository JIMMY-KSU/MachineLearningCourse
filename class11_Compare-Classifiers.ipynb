{
 "cells": [
  {
   "cell_type": "markdown",
   "metadata": {},
   "source": [
    "---\n",
    "\n",
    "# Data Mining:<br>Statistical Modeling and Learning from Data\n",
    "\n",
    "## Dr. Ciro Cattuto<br>Dr. Laetitia Gauvin<br>Dr. André Panisson\n",
    "\n",
    "### Exercises - Compare Classifiers\n",
    "\n",
    "---"
   ]
  },
  {
   "cell_type": "code",
   "execution_count": null,
   "metadata": {},
   "outputs": [],
   "source": [
    "%pylab inline"
   ]
  },
  {
   "cell_type": "markdown",
   "metadata": {},
   "source": [
    "In this exercise, we will compare the decision boundaries of several different classifiers."
   ]
  },
  {
   "cell_type": "markdown",
   "metadata": {},
   "source": [
    "First, we define a colormap to plot the dataset points that we will use:"
   ]
  },
  {
   "cell_type": "code",
   "execution_count": null,
   "metadata": {
    "collapsed": true
   },
   "outputs": [],
   "source": [
    "from matplotlib.colors import ListedColormap\n",
    "cm_bright = ListedColormap(['#FF0000', '#0000FF'])"
   ]
  },
  {
   "cell_type": "markdown",
   "metadata": {},
   "source": [
    "We will use three randomly generated datasets using three different generation functions:\n",
    "\n",
    "- make_classification\n",
    "- make_moons\n",
    "- make_circles"
   ]
  },
  {
   "cell_type": "code",
   "execution_count": null,
   "metadata": {},
   "outputs": [],
   "source": [
    "from sklearn.datasets import make_classification, make_moons, make_circles\n",
    "\n",
    "linear = make_classification(n_samples=400, n_features=2, n_redundant=0, n_informative=2,\n",
    "                           random_state=3, n_clusters_per_class=1, class_sep=0.5)\n",
    "\n",
    "moons = make_moons(n_samples=300, noise=0.3, random_state=0)\n",
    "\n",
    "circles = make_circles(n_samples=300, noise=0.2, factor=0.5, random_state=1)\n",
    "\n",
    "figure(figsize=(15,4))\n",
    "i = 0\n",
    "for dataset in [linear, moons, circles]:\n",
    "    X, y = dataset\n",
    "    i += 1\n",
    "    subplot(1,3,i)\n",
    "    scatter(X[:, 0], X[:, 1], c=y, cmap=cm_bright)"
   ]
  },
  {
   "cell_type": "markdown",
   "metadata": {},
   "source": [
    "We will compare the decision boundaries of several different classifiers:"
   ]
  },
  {
   "cell_type": "code",
   "execution_count": null,
   "metadata": {
    "collapsed": true
   },
   "outputs": [],
   "source": [
    "from sklearn.neighbors import KNeighborsClassifier\n",
    "from sklearn.naive_bayes import GaussianNB\n",
    "from sklearn.linear_model import LogisticRegression\n",
    "from sklearn.svm import SVC\n",
    "from sklearn.tree import DecisionTreeClassifier\n",
    "from sklearn.ensemble import RandomForestClassifier\n",
    "from sklearn.neural_network import MLPClassifier\n",
    "\n",
    "from collections import OrderedDict\n",
    "\n",
    "models = OrderedDict([\n",
    "          ('Knn 5', KNeighborsClassifier(5)),\n",
    "          ('Naive Bayes', GaussianNB()),\n",
    "          ('Logistic Regression', LogisticRegression()),\n",
    "          ('Linear SVM', SVC(kernel='linear', probability=True)),\n",
    "          ('Poly SVM', SVC(kernel='poly', degree=2, probability=True)),\n",
    "          ('RBF SVM', SVC(kernel='rbf', gamma=2, C=1, probability=True)),\n",
    "          ('Classification Tree', DecisionTreeClassifier(max_depth=5)),\n",
    "          ('Random Forest', RandomForestClassifier(max_depth=5, n_estimators=50)),\n",
    "          ('Multilayer Perceptron', MLPClassifier((4,3,2), activation='tanh',solver='adam', max_iter=10000,\n",
    "                                                  learning_rate_init=0.01, random_state=0))\n",
    "          ])"
   ]
  },
  {
   "cell_type": "markdown",
   "metadata": {},
   "source": [
    "The next example shows the decision boundaries of the SVM classifier with RBF kernel when classifying the linear dataset.   \n",
    "We use the method `predict_proba` to get the probability that the classifier assigned to each class."
   ]
  },
  {
   "cell_type": "code",
   "execution_count": null,
   "metadata": {},
   "outputs": [],
   "source": [
    "figure(figsize=(5, 5))\n",
    "\n",
    "name = 'Knn 5'\n",
    "clf = models[name]\n",
    "dataset = linear\n",
    "\n",
    "plt.title(name)\n",
    "\n",
    "X, y = dataset\n",
    "\n",
    "from sklearn.cross_validation import train_test_split\n",
    "X_train, X_test, y_train, y_test = train_test_split(X, y, test_size=.4, random_state=42)\n",
    "\n",
    "clf.fit(X_train, y_train)\n",
    "score = clf.score(X_test, y_test)\n",
    "\n",
    "# create a mesh of points that cover the full graph area\n",
    "x_min, x_max = X[:, 0].min() - .5, X[:, 0].max() + .5\n",
    "y_min, y_max = X[:, 1].min() - .5, X[:, 1].max() + .5\n",
    "h = .02  # step size in the mesh\n",
    "xx, yy = np.meshgrid(np.arange(x_min, x_max, h),\n",
    "                     np.arange(y_min, y_max, h))\n",
    "X_grid = np.c_[xx.ravel(), yy.ravel()]\n",
    "\n",
    "# use the classifier to predict the class of each mesh point\n",
    "Z = clf.predict_proba(np.c_[xx.ravel(), yy.ravel()])[:, 1] - 0.5\n",
    "Z = Z.reshape(xx.shape)\n",
    "\n",
    "# plot the decision boundary\n",
    "norm = plt.cm.colors.Normalize(vmax=abs(Z).max(), vmin=-abs(Z).max())\n",
    "contourf(xx, yy, Z, 10, cmap=plt.cm.RdBu, alpha=.8, norm=norm)\n",
    "\n",
    "\n",
    "# Plot also the training points\n",
    "scatter(X_train[:, 0], X_train[:, 1], c=y_train, cmap=cm_bright)\n",
    "# and testing points\n",
    "scatter(X_test[:, 0], X_test[:, 1], c=y_test, cmap=cm_bright,\n",
    "           alpha=0.6)\n",
    "\n",
    "# plot also the score\n",
    "text(xx.max() - .3, yy.min() + .3, ('%.2f' % score).lstrip('0'),\n",
    "                size=15, horizontalalignment='right')"
   ]
  },
  {
   "cell_type": "markdown",
   "metadata": {},
   "source": [
    "## Exercise:\n",
    "\n",
    "Plot the decision boundaries of the different classifiers for each dataset. "
   ]
  }
 ],
 "metadata": {
  "kernelspec": {
   "display_name": "Python 3",
   "language": "python",
   "name": "python3"
  },
  "language_info": {
   "codemirror_mode": {
    "name": "ipython",
    "version": 3
   },
   "file_extension": ".py",
   "mimetype": "text/x-python",
   "name": "python",
   "nbconvert_exporter": "python",
   "pygments_lexer": "ipython3",
   "version": "3.6.5"
  }
 },
 "nbformat": 4,
 "nbformat_minor": 1
}
