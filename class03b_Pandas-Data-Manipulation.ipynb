{
 "cells": [
  {
   "cell_type": "markdown",
   "metadata": {},
   "source": [
    "---\n",
    "\n",
    "# Data Mining:<br>Statistical Modeling and Learning from Data\n",
    "\n",
    "## Dr. Ciro Cattuto<br>Dr. Laetitia Gauvin<br>Dr. André Panisson\n",
    "\n",
    "### Exercises - Pandas Data Manipulation\n",
    "\n",
    "---"
   ]
  },
  {
   "cell_type": "code",
   "execution_count": null,
   "metadata": {},
   "outputs": [],
   "source": [
    "%matplotlib inline\n",
    "import pandas as pd"
   ]
  },
  {
   "cell_type": "markdown",
   "metadata": {},
   "source": [
    "Go to http://quickfacts.census.gov/qfd/download_data.html and download the three files:\n",
    "\n",
    "- DataSet.txt - 3195 rows, one for the U.S., one for each state, one for each county, but no column headings. Each row is identified by a 5-digit combined state and county code. Data are comma-delimited.\n",
    "- DataDict.txt - One row for each column in DataSet.txt. Flat ASCII files have mnemonic identifier, full title, number of decimals, and the U.S. total value (matching the first row of DataDict.txt)\n",
    "- FIPS_CountyName.txt - Federal Information Processing Standard codes (FIPS) and corresponding place names.\n",
    "\n",
    "Copy the files in the same folder you have this notebook.\n"
   ]
  },
  {
   "cell_type": "code",
   "execution_count": null,
   "metadata": {},
   "outputs": [],
   "source": [
    "dataset_fname = \"data/DataSet.txt\"\n",
    "datadict_fname = \"data/DataDict.txt\" \n",
    "fips_fname = \"data/FIPS_CountyName.txt\""
   ]
  },
  {
   "cell_type": "markdown",
   "metadata": {},
   "source": [
    "### Load FIPS_CountyName.txt"
   ]
  },
  {
   "cell_type": "markdown",
   "metadata": {},
   "source": [
    "Create a fips Series, with FIPS code as key"
   ]
  },
  {
   "cell_type": "code",
   "execution_count": null,
   "metadata": {},
   "outputs": [],
   "source": [
    "# YOUR CODE HERE"
   ]
  },
  {
   "cell_type": "code",
   "execution_count": null,
   "metadata": {},
   "outputs": [],
   "source": [
    "# check NEW YORK state and New York County\n",
    "\n",
    "print (fips['36000'], fips['36061'])"
   ]
  },
  {
   "cell_type": "markdown",
   "metadata": {},
   "source": [
    "### EXERCISE: generate a set of FIPS codes that correspond to states"
   ]
  },
  {
   "cell_type": "code",
   "execution_count": null,
   "metadata": {},
   "outputs": [],
   "source": [
    "# YOUR CODE HERE"
   ]
  },
  {
   "cell_type": "code",
   "execution_count": null,
   "metadata": {},
   "outputs": [],
   "source": [
    "# to check\n",
    "\n",
    "set(states_fips.index) == set([u'01000', u'02000', u'04000', u'05000', u'06000', u'08000',\n",
    "u'09000', u'10000', u'11000', u'12000', u'13000', u'15000', u'16000', u'17000',\n",
    "u'18000', u'19000', u'20000', u'21000', u'22000', u'23000', u'24000', u'25000',\n",
    "u'26000', u'27000', u'28000', u'29000', u'30000', u'31000', u'32000', u'33000',\n",
    "u'34000', u'35000', u'36000', u'37000', u'38000', u'39000', u'40000', u'41000',\n",
    "u'42000', u'44000', u'45000', u'46000', u'47000', u'48000', u'49000', u'50000',\n",
    "u'51000', u'53000', u'54000', u'55000', u'56000'])"
   ]
  },
  {
   "cell_type": "markdown",
   "metadata": {},
   "source": [
    "### EXERCISE: use collections.Counter to check number of counties / state and verify that NY has 62 counties"
   ]
  },
  {
   "cell_type": "markdown",
   "metadata": {},
   "source": [
    "http://en.wikipedia.org/wiki/List_of_counties_in_New_York\n",
    "\n",
    "http://docs.python.org/2/library/collections.html#collections.Counter"
   ]
  },
  {
   "cell_type": "code",
   "execution_count": null,
   "metadata": {},
   "outputs": [],
   "source": [
    "# YOUR CODE HERE"
   ]
  },
  {
   "cell_type": "code",
   "execution_count": null,
   "metadata": {},
   "outputs": [],
   "source": [
    "print (counties_count_by_state['36'])"
   ]
  },
  {
   "cell_type": "markdown",
   "metadata": {},
   "source": [
    "### EXERCISE: write a function county_fips_for_state that return all county fips for a given state fips"
   ]
  },
  {
   "cell_type": "code",
   "execution_count": null,
   "metadata": {},
   "outputs": [],
   "source": [
    "def county_fips_for_state(state_fips):\n",
    "    # YOUR CODE HERE"
   ]
  },
  {
   "cell_type": "code",
   "execution_count": null,
   "metadata": {},
   "outputs": [],
   "source": [
    "# check for NY\n",
    "print ([(k, fips[k]) for k in list(county_fips_for_state('36000')) ])"
   ]
  },
  {
   "cell_type": "markdown",
   "metadata": {},
   "source": [
    "## Load dataset"
   ]
  },
  {
   "cell_type": "code",
   "execution_count": null,
   "metadata": {},
   "outputs": [],
   "source": [
    "dataset = pd.read_csv(dataset_fname, dtype={'fips': str}).set_index('fips')"
   ]
  },
  {
   "cell_type": "code",
   "execution_count": null,
   "metadata": {},
   "outputs": [],
   "source": [
    "# check the population in the US\n",
    "print (int(dataset.ix['00000']['POP010210']) == 308745538)"
   ]
  },
  {
   "cell_type": "markdown",
   "metadata": {},
   "source": [
    "### EXERCISE: Show that the sum of all state populations is equal to the population of US"
   ]
  },
  {
   "cell_type": "code",
   "execution_count": null,
   "metadata": {},
   "outputs": [],
   "source": [
    "# YOUR CODE HERE"
   ]
  },
  {
   "cell_type": "markdown",
   "metadata": {},
   "source": [
    "### EXERCISE: Sum up population for all NY counties and verify that they equal NY population"
   ]
  },
  {
   "cell_type": "code",
   "execution_count": null,
   "metadata": {},
   "outputs": [],
   "source": [
    "int(dataset.ix['36000']['POP010210'])  # total 2010 population of NY"
   ]
  },
  {
   "cell_type": "code",
   "execution_count": null,
   "metadata": {},
   "outputs": [],
   "source": [
    "# YOUR CODE HERE"
   ]
  },
  {
   "cell_type": "markdown",
   "metadata": {},
   "source": [
    "### EXERCISE: for each state, list FIPS, state name, population and whether county totals is the same of state total"
   ]
  },
  {
   "cell_type": "code",
   "execution_count": null,
   "metadata": {},
   "outputs": [],
   "source": [
    "# YOUR CODE HERE"
   ]
  }
 ],
 "metadata": {
  "kernelspec": {
   "display_name": "Python 3",
   "language": "python",
   "name": "python3"
  },
  "language_info": {
   "codemirror_mode": {
    "name": "ipython",
    "version": 3
   },
   "file_extension": ".py",
   "mimetype": "text/x-python",
   "name": "python",
   "nbconvert_exporter": "python",
   "pygments_lexer": "ipython3",
   "version": "3.6.5"
  }
 },
 "nbformat": 4,
 "nbformat_minor": 1
}
