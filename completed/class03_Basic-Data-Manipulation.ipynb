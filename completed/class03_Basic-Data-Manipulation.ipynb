{
 "cells": [
  {
   "cell_type": "markdown",
   "metadata": {},
   "source": [
    "---\n",
    "\n",
    "# Data Mining:<br>Statistical Modeling and Learning from Data\n",
    "\n",
    "## Dr. Ciro Cattuto<br>Dr. Laetitia Gauvin<br>Dr. André Panisson\n",
    "\n",
    "### Exercises - Basic Data Manipulation\n",
    "\n",
    "---"
   ]
  },
  {
   "cell_type": "markdown",
   "metadata": {},
   "source": [
    "Go to http://quickfacts.census.gov/qfd/download_data.html and download the three files:\n",
    "\n",
    "- DataSet.txt - 3195 rows, one for the U.S., one for each state, one for each county, but no column headings. Each row is identified by a 5-digit combined state and county code. Data are comma-delimited.\n",
    "- DataDict.txt - One row for each column in DataSet.txt. Flat ASCII files have mnemonic identifier, full title, number of decimals, and the U.S. total value (matching the first row of DataDict.txt)\n",
    "- FIPS_CountyName.txt - Federal Information Processing Standard codes (FIPS) and corresponding place names.\n",
    "\n",
    "Copy the files in the same folder you have this notebook.\n"
   ]
  },
  {
   "cell_type": "code",
   "execution_count": 1,
   "metadata": {},
   "outputs": [],
   "source": [
    "dataset_fname = \"data/DataSet.txt\"\n",
    "datadict_fname = \"data/DataDict.txt\" \n",
    "fips_fname = \"data/FIPS_CountyName.txt\""
   ]
  },
  {
   "cell_type": "markdown",
   "metadata": {},
   "source": [
    "### Load FIPS_CountyName.txt"
   ]
  },
  {
   "cell_type": "code",
   "execution_count": 2,
   "metadata": {},
   "outputs": [
    {
     "name": "stdout",
     "output_type": "stream",
     "text": [
      "00000 UNITED STATES\n",
      "\n"
     ]
    }
   ],
   "source": [
    "f = open(fips_fname)\n",
    "for row in f:\n",
    "    print row\n",
    "    break"
   ]
  },
  {
   "cell_type": "markdown",
   "metadata": {},
   "source": [
    "### EXERCISE: create a fips dict, with FIPS code as key"
   ]
  },
  {
   "cell_type": "code",
   "execution_count": 3,
   "metadata": {},
   "outputs": [],
   "source": [
    "fips = dict()\n",
    "\n",
    "f = open(fips_fname)\n",
    "for row in f:\n",
    "    fips[row[:5]] = row[6:-1]"
   ]
  },
  {
   "cell_type": "code",
   "execution_count": 4,
   "metadata": {},
   "outputs": [
    {
     "name": "stdout",
     "output_type": "stream",
     "text": [
      "NEW YORK New York County, NY\n"
     ]
    }
   ],
   "source": [
    "# check NEW YORK state and New York County\n",
    "\n",
    "print fips['36000'], fips['36061']"
   ]
  },
  {
   "cell_type": "markdown",
   "metadata": {},
   "source": [
    "### EXERCISE: generate a set of FIPS codes that correspond to states"
   ]
  },
  {
   "cell_type": "code",
   "execution_count": 5,
   "metadata": {},
   "outputs": [
    {
     "name": "stdout",
     "output_type": "stream",
     "text": [
      "set(['18000', '10000', '45000', '21000', '34000', '20000', '49000', '08000', '09000', '04000', '38000', '15000', '17000', '51000', '47000', '36000', '02000', '56000', '35000', '54000', '23000', '27000', '37000', '40000', '16000', '13000', '46000', '39000', '50000', '33000', '25000', '30000', '41000', '31000', '01000', '28000', '24000', '06000', '22000', '48000', '32000', '19000', '29000', '11000', '44000', '12000', '42000', '53000', '05000', '26000', '55000'])\n"
     ]
    }
   ],
   "source": [
    "states_fips = set([k for k in fips.keys() if k[-3:] == '000' and k != '00000'])\n",
    "\n",
    "print states_fips"
   ]
  },
  {
   "cell_type": "code",
   "execution_count": 7,
   "metadata": {},
   "outputs": [
    {
     "data": {
      "text/plain": [
       "True"
      ]
     },
     "execution_count": 7,
     "metadata": {},
     "output_type": "execute_result"
    }
   ],
   "source": [
    "# to check\n",
    "\n",
    "states_fips == set([u'01000', u'02000', u'04000', u'05000', u'06000', u'08000',\n",
    "u'09000', u'10000', u'11000', u'12000', u'13000', u'15000', u'16000', u'17000',\n",
    "u'18000', u'19000', u'20000', u'21000', u'22000', u'23000', u'24000', u'25000',\n",
    "u'26000', u'27000', u'28000', u'29000', u'30000', u'31000', u'32000', u'33000',\n",
    "u'34000', u'35000', u'36000', u'37000', u'38000', u'39000', u'40000', u'41000',\n",
    "u'42000', u'44000', u'45000', u'46000', u'47000', u'48000', u'49000', u'50000',\n",
    "u'51000', u'53000', u'54000', u'55000', u'56000'])"
   ]
  },
  {
   "cell_type": "markdown",
   "metadata": {},
   "source": [
    "### EXERCISE: use collections.Counter to check number of counties / state and verify that NY has 62 counties"
   ]
  },
  {
   "cell_type": "markdown",
   "metadata": {},
   "source": [
    "http://en.wikipedia.org/wiki/List_of_counties_in_New_York\n",
    "\n",
    "http://docs.python.org/2/library/collections.html#collections.Counter"
   ]
  },
  {
   "cell_type": "code",
   "execution_count": 14,
   "metadata": {},
   "outputs": [
    {
     "name": "stdout",
     "output_type": "stream",
     "text": [
      "Counter({'48': 254, '13': 159, '51': 134, '21': 120, '29': 115, '20': 105, '17': 102, '37': 100, '19': 99, '47': 95, '31': 93, '18': 92, '39': 88, '27': 87, '26': 83, '28': 82, '40': 77, '05': 75, '55': 72, '01': 67, '42': 67, '12': 67, '46': 66, '22': 64, '08': 64, '36': 62, '06': 58, '30': 56, '54': 55, '38': 53, '45': 46, '16': 44, '53': 39, '41': 36, '35': 33, '49': 29, '02': 29, '24': 24, '56': 23, '34': 21, '32': 17, '23': 16, '04': 15, '50': 14, '25': 14, '33': 10, '09': 8, '15': 5, '44': 5, '10': 3, '11': 1})\n"
     ]
    }
   ],
   "source": [
    "from collections import Counter\n",
    "\n",
    "counties_count_by_state = Counter((k[:2] for k in fips.iterkeys() if k[-3:] != '000'))\n",
    "\n",
    "print counties_count_by_state"
   ]
  },
  {
   "cell_type": "markdown",
   "metadata": {},
   "source": [
    "### EXERCISE: write a function county_fips_for_state that return all county fips for a given state fips"
   ]
  },
  {
   "cell_type": "code",
   "execution_count": 9,
   "metadata": {
    "collapsed": true
   },
   "outputs": [],
   "source": [
    "def county_fips_for_state(state):\n",
    "    for k in fips.iterkeys():\n",
    "        if k[:2] == state[:2] and k[-3:] != '000':\n",
    "            yield k"
   ]
  },
  {
   "cell_type": "code",
   "execution_count": 10,
   "metadata": {},
   "outputs": [
    {
     "name": "stdout",
     "output_type": "stream",
     "text": [
      "[('36029', 'Erie County, NY'), ('36023', 'Cortland County, NY'), ('36027', 'Dutchess County, NY'), ('36025', 'Delaware County, NY'), ('36017', 'Chenango County, NY'), ('36013', 'Chautauqua County, NY'), ('36011', 'Cayuga County, NY'), ('36075', 'Oswego County, NY'), ('36079', 'Putnam County, NY'), ('36003', 'Allegany County, NY'), ('36005', 'Bronx County, NY'), ('36007', 'Broome County, NY'), ('36009', 'Cattaraugus County, NY'), ('36021', 'Columbia County, NY'), ('36001', 'Albany County, NY'), ('36101', 'Steuben County, NY'), ('36105', 'Sullivan County, NY'), ('36107', 'Tioga County, NY'), ('36119', 'Westchester County, NY'), ('36047', 'Kings County, NY'), ('36123', 'Yates County, NY'), ('36121', 'Wyoming County, NY'), ('36103', 'Suffolk County, NY'), ('36109', 'Tompkins County, NY'), ('36065', 'Oneida County, NY'), ('36069', 'Ontario County, NY'), ('36015', 'Chemung County, NY'), ('36019', 'Clinton County, NY'), ('36099', 'Seneca County, NY'), ('36097', 'Schuyler County, NY'), ('36095', 'Schoharie County, NY'), ('36093', 'Schenectady County, NY'), ('36091', 'Saratoga County, NY'), ('36077', 'Otsego County, NY'), ('36071', 'Orange County, NY'), ('36073', 'Orleans County, NY'), ('36059', 'Nassau County, NY'), ('36089', 'St. Lawrence County, NY'), ('36081', 'Queens County, NY'), ('36083', 'Rensselaer County, NY'), ('36085', 'Richmond County, NY'), ('36087', 'Rockland County, NY'), ('36067', 'Onondaga County, NY'), ('36063', 'Niagara County, NY'), ('36061', 'New York County, NY'), ('36053', 'Madison County, NY'), ('36057', 'Montgomery County, NY'), ('36055', 'Monroe County, NY'), ('36049', 'Lewis County, NY'), ('36045', 'Jefferson County, NY'), ('36041', 'Hamilton County, NY'), ('36043', 'Herkimer County, NY'), ('36051', 'Livingston County, NY'), ('36113', 'Warren County, NY'), ('36111', 'Ulster County, NY'), ('36117', 'Wayne County, NY'), ('36039', 'Greene County, NY'), ('36031', 'Essex County, NY'), ('36033', 'Franklin County, NY'), ('36115', 'Washington County, NY'), ('36035', 'Fulton County, NY'), ('36037', 'Genesee County, NY')]\n"
     ]
    }
   ],
   "source": [
    "# check for NY\n",
    "print [(k, fips[k]) for k in list(county_fips_for_state('36000')) ]"
   ]
  },
  {
   "cell_type": "markdown",
   "metadata": {},
   "source": [
    "## Load dataset"
   ]
  },
  {
   "cell_type": "code",
   "execution_count": 11,
   "metadata": {
    "collapsed": true
   },
   "outputs": [],
   "source": [
    "import csv\n",
    "\n",
    "f = open(dataset_fname)\n",
    "\n",
    "reader = csv.DictReader(f)\n",
    "dataset = dict([(row[\"fips\"], row) for row in reader])"
   ]
  },
  {
   "cell_type": "code",
   "execution_count": 12,
   "metadata": {},
   "outputs": [
    {
     "name": "stdout",
     "output_type": "stream",
     "text": [
      "True\n"
     ]
    }
   ],
   "source": [
    "# check the population in the US\n",
    "print int(dataset['00000']['POP010210']) == 308745538"
   ]
  },
  {
   "cell_type": "markdown",
   "metadata": {},
   "source": [
    "### EXERCISE: Show that the sum of all state populations is equal to the population of US"
   ]
  },
  {
   "cell_type": "code",
   "execution_count": 13,
   "metadata": {},
   "outputs": [
    {
     "data": {
      "text/plain": [
       "308745538"
      ]
     },
     "execution_count": 13,
     "metadata": {},
     "output_type": "execute_result"
    }
   ],
   "source": [
    "sum([int(dataset[k]['POP010210']) for k in states_fips])"
   ]
  },
  {
   "cell_type": "markdown",
   "metadata": {},
   "source": [
    "### EXERCISE: Sum up population for all NY counties and verify that they equal NY population"
   ]
  },
  {
   "cell_type": "code",
   "execution_count": 14,
   "metadata": {},
   "outputs": [
    {
     "data": {
      "text/plain": [
       "19378102"
      ]
     },
     "execution_count": 14,
     "metadata": {},
     "output_type": "execute_result"
    }
   ],
   "source": [
    "int(dataset['36000']['POP010210'])  # total 2010 population of NY"
   ]
  },
  {
   "cell_type": "code",
   "execution_count": 15,
   "metadata": {},
   "outputs": [
    {
     "name": "stdout",
     "output_type": "stream",
     "text": [
      "True\n"
     ]
    }
   ],
   "source": [
    "state = '36000'\n",
    "print sum([int(dataset[cf]['POP010210']) \\\n",
    "               for cf in county_fips_for_state(state)]) == int(dataset[state]['POP010210'])"
   ]
  },
  {
   "cell_type": "markdown",
   "metadata": {},
   "source": [
    "### EXERCISE: for each state, list FIPS, state name, population and whether county totals is the same of state total"
   ]
  },
  {
   "cell_type": "code",
   "execution_count": 16,
   "metadata": {},
   "outputs": [
    {
     "name": "stdout",
     "output_type": "stream",
     "text": [
      "18000 INDIANA 6483802 True\n",
      "10000 DELAWARE 897934 True\n",
      "45000 SOUTH CAROLINA 4625364 True\n",
      "21000 KENTUCKY 4339367 True\n",
      "34000 NEW JERSEY 8791894 True\n",
      "20000 KANSAS 2853118 True\n",
      "49000 UTAH 2763885 True\n",
      "08000 COLORADO 5029196 True\n",
      "09000 CONNECTICUT 3574097 True\n",
      "04000 ARIZONA 6392017 True\n",
      "38000 NORTH DAKOTA 672591 True\n",
      "15000 HAWAII 1360301 True\n",
      "17000 ILLINOIS 12830632 True\n",
      "51000 VIRGINIA 8001024 True\n",
      "47000 TENNESSEE 6346105 True\n",
      "36000 NEW YORK 19378102 True\n",
      "02000 ALASKA 710231 True\n",
      "56000 WYOMING 563626 True\n",
      "35000 NEW MEXICO 2059179 True\n",
      "54000 WEST VIRGINIA 1852994 True\n",
      "23000 MAINE 1328361 True\n",
      "27000 MINNESOTA 5303925 True\n",
      "37000 NORTH CAROLINA 9535483 True\n",
      "40000 OKLAHOMA 3751351 True\n",
      "16000 IDAHO 1567582 True\n",
      "13000 GEORGIA 9687653 True\n",
      "46000 SOUTH DAKOTA 814180 True\n",
      "39000 OHIO 11536504 True\n",
      "50000 VERMONT 625741 True\n",
      "33000 NEW HAMPSHIRE 1316470 True\n",
      "25000 MASSACHUSETTS 6547629 True\n",
      "30000 MONTANA 989415 True\n",
      "41000 OREGON 3831074 True\n",
      "31000 NEBRASKA 1826341 True\n",
      "01000 ALABAMA 4779736 True\n",
      "28000 MISSISSIPPI 2967297 True\n",
      "24000 MARYLAND 5773552 True\n",
      "06000 CALIFORNIA 37253956 True\n",
      "22000 LOUISIANA 4533372 True\n",
      "48000 TEXAS 25145561 True\n",
      "32000 NEVADA 2700551 True\n",
      "19000 IOWA 3046355 True\n",
      "29000 MISSOURI 5988927 True\n",
      "11000 DISTRICT OF COLUMBIA 601723 True\n",
      "44000 RHODE ISLAND 1052567 True\n",
      "12000 FLORIDA 18801310 True\n",
      "42000 PENNSYLVANIA 12702379 True\n",
      "53000 WASHINGTON 6724540 True\n",
      "05000 ARKANSAS 2915918 True\n",
      "26000 MICHIGAN 9883640 True\n",
      "55000 WISCONSIN 5686986 True\n"
     ]
    }
   ],
   "source": [
    "for state in states_fips:\n",
    "    print state, fips[state], int(dataset[state]['POP010210']), \n",
    "    print sum([int(dataset[cf]['POP010210']) \\\n",
    "               for cf in county_fips_for_state(state)]) == int(dataset[state]['POP010210'])"
   ]
  },
  {
   "cell_type": "code",
   "execution_count": null,
   "metadata": {
    "collapsed": true
   },
   "outputs": [],
   "source": []
  }
 ],
 "metadata": {
  "kernelspec": {
   "display_name": "Python 3",
   "language": "python",
   "name": "python3"
  },
  "language_info": {
   "codemirror_mode": {
    "name": "ipython",
    "version": 3
   },
   "file_extension": ".py",
   "mimetype": "text/x-python",
   "name": "python",
   "nbconvert_exporter": "python",
   "pygments_lexer": "ipython3",
   "version": "3.6.5"
  }
 },
 "nbformat": 4,
 "nbformat_minor": 1
}
